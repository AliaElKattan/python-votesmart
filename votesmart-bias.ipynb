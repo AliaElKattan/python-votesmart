{
 "cells": [
  {
   "cell_type": "code",
   "execution_count": 7,
   "metadata": {},
   "outputs": [
    {
     "name": "stdout",
     "output_type": "stream",
     "text": [
      "running install\n",
      "running build\n",
      "running build_py\n",
      "copying votesmart.py -> build\\lib\n",
      "running install_lib\n",
      "copying build\\lib\\votesmart.py -> C:\\Users\\aliae\\Anaconda3\\Lib\\site-packages\n",
      "byte-compiling C:\\Users\\aliae\\Anaconda3\\Lib\\site-packages\\votesmart.py to votesmart.cpython-37.pyc\n",
      "running install_egg_info\n",
      "Removing C:\\Users\\aliae\\Anaconda3\\Lib\\site-packages\\python_votesmart-0.3.3-py3.7.egg-info\n",
      "Writing C:\\Users\\aliae\\Anaconda3\\Lib\\site-packages\\python_votesmart-0.3.3-py3.7.egg-info\n"
     ]
    },
    {
     "name": "stderr",
     "output_type": "stream",
     "text": [
      "C:\\Users\\aliae\\Anaconda3\\lib\\distutils\\dist.py:274: UserWarning: Unknown distribution option: 'install_requires'\n",
      "  warnings.warn(msg)\n"
     ]
    }
   ],
   "source": [
    "!python setup.py install"
   ]
  },
  {
   "cell_type": "code",
   "execution_count": 8,
   "metadata": {},
   "outputs": [],
   "source": [
    "from votesmart import votesmart"
   ]
  },
  {
   "cell_type": "code",
   "execution_count": 1,
   "metadata": {},
   "outputs": [
    {
     "name": "stdout",
     "output_type": "stream",
     "text": [
      "running install\n",
      "running build\n",
      "running build_py\n",
      "copying votesmart.py -> build\\lib\n",
      "running install_lib\n",
      "copying build\\lib\\votesmart.py -> C:\\Users\\aliae\\Anaconda3\\Lib\\site-packages\n",
      "byte-compiling C:\\Users\\aliae\\Anaconda3\\Lib\\site-packages\\votesmart.py to votesmart.cpython-37.pyc\n",
      "running install_egg_info\n",
      "Removing C:\\Users\\aliae\\Anaconda3\\Lib\\site-packages\\python_votesmart-0.3.3-py3.7.egg-info\n",
      "Writing C:\\Users\\aliae\\Anaconda3\\Lib\\site-packages\\python_votesmart-0.3.3-py3.7.egg-info\n"
     ]
    },
    {
     "name": "stderr",
     "output_type": "stream",
     "text": [
      "C:\\Users\\aliae\\Anaconda3\\lib\\distutils\\dist.py:274: UserWarning: Unknown distribution option: 'install_requires'\n",
      "  warnings.warn(msg)\n",
      "  File \"C:\\Users\\aliae\\Anaconda3\\Lib\\site-packages\\votesmart.py\", line 219\n",
      "    except urllib2.HTTPError, e:\n",
      "                            ^\n",
      "SyntaxError: invalid syntax\n",
      "\n"
     ]
    }
   ],
   "source": []
  },
  {
   "cell_type": "code",
   "execution_count": null,
   "metadata": {},
   "outputs": [],
   "source": []
  }
 ],
 "metadata": {
  "kernelspec": {
   "display_name": "Python 3",
   "language": "python",
   "name": "python3"
  },
  "language_info": {
   "codemirror_mode": {
    "name": "ipython",
    "version": 3
   },
   "file_extension": ".py",
   "mimetype": "text/x-python",
   "name": "python",
   "nbconvert_exporter": "python",
   "pygments_lexer": "ipython3",
   "version": "3.7.4"
  }
 },
 "nbformat": 4,
 "nbformat_minor": 2
}
